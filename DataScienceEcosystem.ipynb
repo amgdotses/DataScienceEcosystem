{
 "cells": [
  {
   "cell_type": "markdown",
   "id": "ab501b0d",
   "metadata": {},
   "source": [
    "# Objectives:\n",
    "- List popular languages for data science\n",
    "- List popular libraries for data science\n",
    "- Demonstrate an understanding of simple expressions"
   ]
  },
  {
   "cell_type": "markdown",
   "id": "c85a8f82",
   "metadata": {},
   "source": [
    "# Objectives:\n",
    "- List popular languages for data science\n",
    "- List popular libraries for data science\n",
    "- Demonstrate an understanding of simple expressions"
   ]
  },
  {
   "cell_type": "markdown",
   "id": "f17d0dae",
   "metadata": {},
   "source": [
    "# H1: Data Science Tools and Ecosystem\n",
    "## Author\n",
    "- Dorothy Watson"
   ]
  },
  {
   "cell_type": "markdown",
   "id": "9cd22cd3",
   "metadata": {},
   "source": [
    "# H1: Data Science Tools and Ecosystem\n",
    "## Author\n",
    "- Dorothy Watson"
   ]
  },
  {
   "cell_type": "markdown",
   "id": "cb4fe0e4",
   "metadata": {},
   "source": [
    "# In this notebook, Data Science Tools and Ecosystem are summarized"
   ]
  },
  {
   "cell_type": "markdown",
   "id": "2f9ad09f",
   "metadata": {},
   "source": [
    "# In this notebook, Data Science Tools and Ecosystem are summarized"
   ]
  },
  {
   "cell_type": "markdown",
   "id": "3db6849d",
   "metadata": {},
   "source": [
    "# Some of the popular languages that Data Scientists use are:\n",
    "1. Python\n",
    "2. Scala\n",
    "3. Julia"
   ]
  },
  {
   "cell_type": "markdown",
   "id": "9d903f5f",
   "metadata": {},
   "source": [
    "# Some of the popular languages that Data Scientists use are:\n",
    "1. Python\n",
    "2. Scala\n",
    "3. Julia"
   ]
  },
  {
   "cell_type": "markdown",
   "id": "268f154a",
   "metadata": {},
   "source": [
    "# Some of the commonly used libraries used by Data Scientists include:\n",
    "1. Pandas\n",
    "2. Matplotlib\n",
    "3. NumPy"
   ]
  },
  {
   "cell_type": "markdown",
   "id": "544718b9",
   "metadata": {},
   "source": [
    "# Some of the commonly used libraries used by Data Scientists include:\n",
    "1. Pandas\n",
    "2. Matplotlib\n",
    "3. NumPy"
   ]
  },
  {
   "cell_type": "markdown",
   "id": "0ed2ecae",
   "metadata": {},
   "source": [
    "| Data Science Tools|\n",
    "| ------------------|\n",
    "| Apache Spark |\n",
    "| Jupytr Notebook |\n",
    "| RStudio |"
   ]
  },
  {
   "cell_type": "markdown",
   "id": "00f0f75f",
   "metadata": {},
   "source": [
    "| Data Science Tools|\n",
    "| ------------------|\n",
    "| Apache Spark |\n",
    "| Jupytr Notebook |\n",
    "| RStudio |"
   ]
  },
  {
   "cell_type": "markdown",
   "id": "c16118f9",
   "metadata": {},
   "source": [
    "### H3: Below are a few examples of evaluating arithmetic expressions in Python"
   ]
  },
  {
   "cell_type": "markdown",
   "id": "4d885538",
   "metadata": {},
   "source": [
    "### H3: Below are a few examples of evaluating arithmetic expressions in Python"
   ]
  },
  {
   "cell_type": "markdown",
   "id": "d63873ab",
   "metadata": {},
   "source": [
    "# This a simple arithmetic expression to multiply then add integers\n",
    "(3*4)+5"
   ]
  },
  {
   "cell_type": "code",
   "execution_count": 6,
   "id": "52e2e698",
   "metadata": {},
   "outputs": [
    {
     "data": {
      "text/plain": [
       "17"
      ]
     },
     "execution_count": 6,
     "metadata": {},
     "output_type": "execute_result"
    }
   ],
   "source": [
    "(3*4)+5"
   ]
  },
  {
   "cell_type": "code",
   "execution_count": 8,
   "id": "5b6bc4c2",
   "metadata": {},
   "outputs": [
    {
     "data": {
      "text/plain": [
       "3.3333333333333335"
      ]
     },
     "execution_count": 8,
     "metadata": {},
     "output_type": "execute_result"
    }
   ],
   "source": [
    "# This will convert 200 minutes to hours by dividing by 60\n",
    "200 / 60\n"
   ]
  },
  {
   "cell_type": "code",
   "execution_count": null,
   "id": "680b9aab",
   "metadata": {},
   "outputs": [],
   "source": []
  }
 ],
 "metadata": {
  "kernelspec": {
   "display_name": "Python 3 (ipykernel)",
   "language": "python",
   "name": "python3"
  },
  "language_info": {
   "codemirror_mode": {
    "name": "ipython",
    "version": 3
   },
   "file_extension": ".py",
   "mimetype": "text/x-python",
   "name": "python",
   "nbconvert_exporter": "python",
   "pygments_lexer": "ipython3",
   "version": "3.10.9"
  }
 },
 "nbformat": 4,
 "nbformat_minor": 5
}
